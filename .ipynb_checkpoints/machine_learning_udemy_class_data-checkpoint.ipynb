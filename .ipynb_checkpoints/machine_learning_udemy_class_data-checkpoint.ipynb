{
 "cells": [
  {
   "cell_type": "markdown",
   "id": "e1854422",
   "metadata": {},
   "source": [
    "### About the Notebook\n",
    "\n",
    "In this notebook, we will exmplore Udemy class data from Kaggle.com and try to predict which classes are successful using Pandas, matplotlib, seaborn and scikit-learn"
   ]
  },
  {
   "cell_type": "code",
   "execution_count": 1,
   "id": "7a09c98b",
   "metadata": {},
   "outputs": [],
   "source": [
    "#To begin, we will import the following packages:\n",
    "\n",
    "import pandas as pd #data analysis tool\n",
    "import numpy as np #machine learning framework\n",
    "import seaborn as sns #data visualization tool\n",
    "import matplotlib.pyplot as plt #data visualization tool\n",
    "# import joypy\n",
    "# import plotly.express  as px\n",
    "# import plotly.graph_objects as go\n",
    "\n",
    "# from matplotlib import cm\n",
    "# plt.style.use('ggplot')\n",
    "\n",
    "df = pd.read_csv('data/udemy_courses.csv') #import the csv file"
   ]
  },
  {
   "cell_type": "code",
   "execution_count": 2,
   "id": "e458c963",
   "metadata": {},
   "outputs": [
    {
     "name": "stdout",
     "output_type": "stream",
     "text": [
      "<class 'pandas.core.frame.DataFrame'>\n",
      "RangeIndex: 3682 entries, 0 to 3681\n",
      "Data columns (total 12 columns):\n",
      " #   Column               Non-Null Count  Dtype \n",
      "---  ------               --------------  ----- \n",
      " 0   course_id            3682 non-null   int64 \n",
      " 1   course_title         3682 non-null   object\n",
      " 2   url                  3682 non-null   object\n",
      " 3   is_paid              3682 non-null   bool  \n",
      " 4   price                3682 non-null   object\n",
      " 5   num_subscribers      3682 non-null   int64 \n",
      " 6   num_reviews          3682 non-null   int64 \n",
      " 7   num_lectures         3682 non-null   int64 \n",
      " 8   level                3682 non-null   object\n",
      " 9   content_duration     3682 non-null   object\n",
      " 10  published_timestamp  3682 non-null   object\n",
      " 11  subject              3682 non-null   object\n",
      "dtypes: bool(1), int64(4), object(7)\n",
      "memory usage: 320.1+ KB\n"
     ]
    }
   ],
   "source": [
    "df.info() ##Take a look at the dataset. There are 3682 courses and no missing data"
   ]
  },
  {
   "cell_type": "code",
   "execution_count": 3,
   "id": "cb39e949",
   "metadata": {},
   "outputs": [
    {
     "data": {
      "text/html": [
       "<style type=\"text/css\">\n",
       "#T_467a8_row0_col0, #T_467a8_row0_col1, #T_467a8_row0_col2, #T_467a8_row0_col3, #T_467a8_row0_col4, #T_467a8_row0_col5, #T_467a8_row0_col6, #T_467a8_row0_col7, #T_467a8_row0_col8, #T_467a8_row0_col9, #T_467a8_row0_col10, #T_467a8_row0_col11, #T_467a8_row1_col0, #T_467a8_row1_col1, #T_467a8_row1_col2, #T_467a8_row1_col3, #T_467a8_row1_col4, #T_467a8_row1_col5, #T_467a8_row1_col6, #T_467a8_row1_col7, #T_467a8_row1_col8, #T_467a8_row1_col9, #T_467a8_row1_col10, #T_467a8_row1_col11, #T_467a8_row2_col0, #T_467a8_row2_col1, #T_467a8_row2_col2, #T_467a8_row2_col3, #T_467a8_row2_col4, #T_467a8_row2_col5, #T_467a8_row2_col6, #T_467a8_row2_col7, #T_467a8_row2_col8, #T_467a8_row2_col9, #T_467a8_row2_col10, #T_467a8_row2_col11, #T_467a8_row3_col0, #T_467a8_row3_col1, #T_467a8_row3_col2, #T_467a8_row3_col3, #T_467a8_row3_col4, #T_467a8_row3_col5, #T_467a8_row3_col6, #T_467a8_row3_col7, #T_467a8_row3_col8, #T_467a8_row3_col9, #T_467a8_row3_col10, #T_467a8_row3_col11, #T_467a8_row4_col0, #T_467a8_row4_col1, #T_467a8_row4_col2, #T_467a8_row4_col3, #T_467a8_row4_col4, #T_467a8_row4_col5, #T_467a8_row4_col6, #T_467a8_row4_col7, #T_467a8_row4_col8, #T_467a8_row4_col9, #T_467a8_row4_col10, #T_467a8_row4_col11 {\n",
       "  background-color: #161717;\n",
       "  color: #30c7e6;\n",
       "  border-color: #8b8c8c;\n",
       "}\n",
       "</style>\n",
       "<table id=\"T_467a8\">\n",
       "  <thead>\n",
       "    <tr>\n",
       "      <th class=\"blank level0\" >&nbsp;</th>\n",
       "      <th id=\"T_467a8_level0_col0\" class=\"col_heading level0 col0\" >course_id</th>\n",
       "      <th id=\"T_467a8_level0_col1\" class=\"col_heading level0 col1\" >course_title</th>\n",
       "      <th id=\"T_467a8_level0_col2\" class=\"col_heading level0 col2\" >url</th>\n",
       "      <th id=\"T_467a8_level0_col3\" class=\"col_heading level0 col3\" >is_paid</th>\n",
       "      <th id=\"T_467a8_level0_col4\" class=\"col_heading level0 col4\" >price</th>\n",
       "      <th id=\"T_467a8_level0_col5\" class=\"col_heading level0 col5\" >num_subscribers</th>\n",
       "      <th id=\"T_467a8_level0_col6\" class=\"col_heading level0 col6\" >num_reviews</th>\n",
       "      <th id=\"T_467a8_level0_col7\" class=\"col_heading level0 col7\" >num_lectures</th>\n",
       "      <th id=\"T_467a8_level0_col8\" class=\"col_heading level0 col8\" >level</th>\n",
       "      <th id=\"T_467a8_level0_col9\" class=\"col_heading level0 col9\" >content_duration</th>\n",
       "      <th id=\"T_467a8_level0_col10\" class=\"col_heading level0 col10\" >published_timestamp</th>\n",
       "      <th id=\"T_467a8_level0_col11\" class=\"col_heading level0 col11\" >subject</th>\n",
       "    </tr>\n",
       "  </thead>\n",
       "  <tbody>\n",
       "    <tr>\n",
       "      <th id=\"T_467a8_level0_row0\" class=\"row_heading level0 row0\" >0</th>\n",
       "      <td id=\"T_467a8_row0_col0\" class=\"data row0 col0\" >1113008</td>\n",
       "      <td id=\"T_467a8_row0_col1\" class=\"data row0 col1\" >Building Up To Barre Chords</td>\n",
       "      <td id=\"T_467a8_row0_col2\" class=\"data row0 col2\" >https://www.udemy.com/building-up-to-barre-chords/</td>\n",
       "      <td id=\"T_467a8_row0_col3\" class=\"data row0 col3\" >True</td>\n",
       "      <td id=\"T_467a8_row0_col4\" class=\"data row0 col4\" >20</td>\n",
       "      <td id=\"T_467a8_row0_col5\" class=\"data row0 col5\" >20</td>\n",
       "      <td id=\"T_467a8_row0_col6\" class=\"data row0 col6\" >6</td>\n",
       "      <td id=\"T_467a8_row0_col7\" class=\"data row0 col7\" >12</td>\n",
       "      <td id=\"T_467a8_row0_col8\" class=\"data row0 col8\" >All Levels</td>\n",
       "      <td id=\"T_467a8_row0_col9\" class=\"data row0 col9\" >43 mins</td>\n",
       "      <td id=\"T_467a8_row0_col10\" class=\"data row0 col10\" >2017-03-16T22:57:47Z</td>\n",
       "      <td id=\"T_467a8_row0_col11\" class=\"data row0 col11\" >Musical Instruments</td>\n",
       "    </tr>\n",
       "    <tr>\n",
       "      <th id=\"T_467a8_level0_row1\" class=\"row_heading level0 row1\" >1</th>\n",
       "      <td id=\"T_467a8_row1_col0\" class=\"data row1 col0\" >835712</td>\n",
       "      <td id=\"T_467a8_row1_col1\" class=\"data row1 col1\" >Crash Course - Learn to Create a PHP MVC Framework</td>\n",
       "      <td id=\"T_467a8_row1_col2\" class=\"data row1 col2\" >https://www.udemy.com/crash-course-learn-to-create-a-php-mvc-framework/</td>\n",
       "      <td id=\"T_467a8_row1_col3\" class=\"data row1 col3\" >True</td>\n",
       "      <td id=\"T_467a8_row1_col4\" class=\"data row1 col4\" >50</td>\n",
       "      <td id=\"T_467a8_row1_col5\" class=\"data row1 col5\" >1282</td>\n",
       "      <td id=\"T_467a8_row1_col6\" class=\"data row1 col6\" >117</td>\n",
       "      <td id=\"T_467a8_row1_col7\" class=\"data row1 col7\" >12</td>\n",
       "      <td id=\"T_467a8_row1_col8\" class=\"data row1 col8\" >All Levels</td>\n",
       "      <td id=\"T_467a8_row1_col9\" class=\"data row1 col9\" >1 hour</td>\n",
       "      <td id=\"T_467a8_row1_col10\" class=\"data row1 col10\" >2016-05-01T18:04:29Z</td>\n",
       "      <td id=\"T_467a8_row1_col11\" class=\"data row1 col11\" >Web Development</td>\n",
       "    </tr>\n",
       "    <tr>\n",
       "      <th id=\"T_467a8_level0_row2\" class=\"row_heading level0 row2\" >2</th>\n",
       "      <td id=\"T_467a8_row2_col0\" class=\"data row2 col0\" >573064</td>\n",
       "      <td id=\"T_467a8_row2_col1\" class=\"data row2 col1\" >Photoshop in Ease: Create World Amazing  Graphic Designs</td>\n",
       "      <td id=\"T_467a8_row2_col2\" class=\"data row2 col2\" >https://www.udemy.com/photoshop-knights-become-a-professional-in-no-time/</td>\n",
       "      <td id=\"T_467a8_row2_col3\" class=\"data row2 col3\" >True</td>\n",
       "      <td id=\"T_467a8_row2_col4\" class=\"data row2 col4\" >20</td>\n",
       "      <td id=\"T_467a8_row2_col5\" class=\"data row2 col5\" >14440</td>\n",
       "      <td id=\"T_467a8_row2_col6\" class=\"data row2 col6\" >182</td>\n",
       "      <td id=\"T_467a8_row2_col7\" class=\"data row2 col7\" >26</td>\n",
       "      <td id=\"T_467a8_row2_col8\" class=\"data row2 col8\" >All Levels</td>\n",
       "      <td id=\"T_467a8_row2_col9\" class=\"data row2 col9\" >3 hours</td>\n",
       "      <td id=\"T_467a8_row2_col10\" class=\"data row2 col10\" >2015-08-13T21:17:34Z</td>\n",
       "      <td id=\"T_467a8_row2_col11\" class=\"data row2 col11\" >Graphic Design</td>\n",
       "    </tr>\n",
       "    <tr>\n",
       "      <th id=\"T_467a8_level0_row3\" class=\"row_heading level0 row3\" >3</th>\n",
       "      <td id=\"T_467a8_row3_col0\" class=\"data row3 col0\" >294794</td>\n",
       "      <td id=\"T_467a8_row3_col1\" class=\"data row3 col1\" >Create An HTML5 Video Player From Scratch</td>\n",
       "      <td id=\"T_467a8_row3_col2\" class=\"data row3 col2\" >https://www.udemy.com/html5-video-player/</td>\n",
       "      <td id=\"T_467a8_row3_col3\" class=\"data row3 col3\" >False</td>\n",
       "      <td id=\"T_467a8_row3_col4\" class=\"data row3 col4\" >Free</td>\n",
       "      <td id=\"T_467a8_row3_col5\" class=\"data row3 col5\" >32260</td>\n",
       "      <td id=\"T_467a8_row3_col6\" class=\"data row3 col6\" >1005</td>\n",
       "      <td id=\"T_467a8_row3_col7\" class=\"data row3 col7\" >12</td>\n",
       "      <td id=\"T_467a8_row3_col8\" class=\"data row3 col8\" >Beginner Level</td>\n",
       "      <td id=\"T_467a8_row3_col9\" class=\"data row3 col9\" >1.5 hours</td>\n",
       "      <td id=\"T_467a8_row3_col10\" class=\"data row3 col10\" >2014-09-05T19:16:53Z</td>\n",
       "      <td id=\"T_467a8_row3_col11\" class=\"data row3 col11\" >Web Development</td>\n",
       "    </tr>\n",
       "    <tr>\n",
       "      <th id=\"T_467a8_level0_row4\" class=\"row_heading level0 row4\" >4</th>\n",
       "      <td id=\"T_467a8_row4_col0\" class=\"data row4 col0\" >652768</td>\n",
       "      <td id=\"T_467a8_row4_col1\" class=\"data row4 col1\" >Trading: Basics of Trading for Beginners</td>\n",
       "      <td id=\"T_467a8_row4_col2\" class=\"data row4 col2\" >https://www.udemy.com/money-basics-of-trading-for-beginners/</td>\n",
       "      <td id=\"T_467a8_row4_col3\" class=\"data row4 col3\" >True</td>\n",
       "      <td id=\"T_467a8_row4_col4\" class=\"data row4 col4\" >140</td>\n",
       "      <td id=\"T_467a8_row4_col5\" class=\"data row4 col5\" >1309</td>\n",
       "      <td id=\"T_467a8_row4_col6\" class=\"data row4 col6\" >4</td>\n",
       "      <td id=\"T_467a8_row4_col7\" class=\"data row4 col7\" >20</td>\n",
       "      <td id=\"T_467a8_row4_col8\" class=\"data row4 col8\" >Beginner Level</td>\n",
       "      <td id=\"T_467a8_row4_col9\" class=\"data row4 col9\" >1.5 hours</td>\n",
       "      <td id=\"T_467a8_row4_col10\" class=\"data row4 col10\" >2015-11-11T01:30:17Z</td>\n",
       "      <td id=\"T_467a8_row4_col11\" class=\"data row4 col11\" >Business Finance</td>\n",
       "    </tr>\n",
       "  </tbody>\n",
       "</table>\n"
      ],
      "text/plain": [
       "<pandas.io.formats.style.Styler at 0x7fe89c671a60>"
      ]
     },
     "execution_count": 3,
     "metadata": {},
     "output_type": "execute_result"
    }
   ],
   "source": [
    "# Read data\n",
    "df = pd.read_csv('data/udemy_courses.csv')\n",
    "\n",
    "# Print a sample of the data\n",
    "df.sample(5).reset_index(drop=True).style.set_properties(**{'background-color': '#161717','color': '#30c7e6','border-color': '#8b8c8c'})"
   ]
  },
  {
   "cell_type": "code",
   "execution_count": 4,
   "id": "10480154",
   "metadata": {},
   "outputs": [
    {
     "name": "stdout",
     "output_type": "stream",
     "text": [
      "<class 'pandas.core.frame.DataFrame'>\n",
      "RangeIndex: 3682 entries, 0 to 3681\n",
      "Data columns (total 12 columns):\n",
      " #   Column               Non-Null Count  Dtype              \n",
      "---  ------               --------------  -----              \n",
      " 0   course_id            3682 non-null   int64              \n",
      " 1   course_title         3682 non-null   object             \n",
      " 2   url                  3682 non-null   object             \n",
      " 3   is_paid              3682 non-null   bool               \n",
      " 4   price                3682 non-null   object             \n",
      " 5   num_subscribers      3682 non-null   int64              \n",
      " 6   num_reviews          3682 non-null   int64              \n",
      " 7   num_lectures         3682 non-null   int64              \n",
      " 8   level                3682 non-null   object             \n",
      " 9   content_duration     3682 non-null   object             \n",
      " 10  published_timestamp  3682 non-null   datetime64[ns, UTC]\n",
      " 11  subject              3682 non-null   object             \n",
      "dtypes: bool(1), datetime64[ns, UTC](1), int64(4), object(6)\n",
      "memory usage: 320.1+ KB\n"
     ]
    }
   ],
   "source": [
    "# 'published_timestamp' is stored as an object so we will convert it to a date time\n",
    "\n",
    "df[\"published_timestamp\"] = pd.to_datetime(df[\"published_timestamp\"])\n",
    "\n",
    "df.info() #Take a look at the updated datatypes"
   ]
  },
  {
   "cell_type": "code",
   "execution_count": 5,
   "id": "ae6fe37e",
   "metadata": {},
   "outputs": [
    {
     "data": {
      "text/html": [
       "<div>\n",
       "<style scoped>\n",
       "    .dataframe tbody tr th:only-of-type {\n",
       "        vertical-align: middle;\n",
       "    }\n",
       "\n",
       "    .dataframe tbody tr th {\n",
       "        vertical-align: top;\n",
       "    }\n",
       "\n",
       "    .dataframe thead th {\n",
       "        text-align: right;\n",
       "    }\n",
       "</style>\n",
       "<table border=\"1\" class=\"dataframe\">\n",
       "  <thead>\n",
       "    <tr style=\"text-align: right;\">\n",
       "      <th></th>\n",
       "      <th>course_id</th>\n",
       "      <th>course_title</th>\n",
       "      <th>url</th>\n",
       "      <th>is_paid</th>\n",
       "      <th>price</th>\n",
       "      <th>num_subscribers</th>\n",
       "      <th>num_reviews</th>\n",
       "      <th>num_lectures</th>\n",
       "      <th>level</th>\n",
       "      <th>content_duration</th>\n",
       "      <th>published_timestamp</th>\n",
       "      <th>subject</th>\n",
       "      <th>content_time_value</th>\n",
       "      <th>content_time_unit</th>\n",
       "    </tr>\n",
       "  </thead>\n",
       "  <tbody>\n",
       "    <tr>\n",
       "      <th>93</th>\n",
       "      <td>1259560</td>\n",
       "      <td>Test your knowledge in Basics of Accounting</td>\n",
       "      <td>https://www.udemy.com/test-your-knowledge-in-b...</td>\n",
       "      <td>True</td>\n",
       "      <td>30</td>\n",
       "      <td>1000</td>\n",
       "      <td>11</td>\n",
       "      <td>0</td>\n",
       "      <td>Beginner Level</td>\n",
       "      <td>218 questions</td>\n",
       "      <td>2017-06-20 05:56:52+00:00</td>\n",
       "      <td>Business Finance</td>\n",
       "      <td>218</td>\n",
       "      <td>questions</td>\n",
       "    </tr>\n",
       "    <tr>\n",
       "      <th>95</th>\n",
       "      <td>1270254</td>\n",
       "      <td>Test your Knowledge in Cost Accounting</td>\n",
       "      <td>https://www.udemy.com/test-your-knowledge-in-c...</td>\n",
       "      <td>True</td>\n",
       "      <td>30</td>\n",
       "      <td>999</td>\n",
       "      <td>3</td>\n",
       "      <td>0</td>\n",
       "      <td>All Levels</td>\n",
       "      <td>18 questions</td>\n",
       "      <td>2017-06-27 10:43:44+00:00</td>\n",
       "      <td>Business Finance</td>\n",
       "      <td>18</td>\n",
       "      <td>questions</td>\n",
       "    </tr>\n",
       "    <tr>\n",
       "      <th>847</th>\n",
       "      <td>1271684</td>\n",
       "      <td>Test your Knowledge in Banking Credit Analysis...</td>\n",
       "      <td>https://www.udemy.com/banking-credit-analysis-...</td>\n",
       "      <td>True</td>\n",
       "      <td>30</td>\n",
       "      <td>17</td>\n",
       "      <td>0</td>\n",
       "      <td>0</td>\n",
       "      <td>All Levels</td>\n",
       "      <td>24 questions</td>\n",
       "      <td>2017-06-30 10:45:11+00:00</td>\n",
       "      <td>Business Finance</td>\n",
       "      <td>24</td>\n",
       "      <td>questions</td>\n",
       "    </tr>\n",
       "    <tr>\n",
       "      <th>970</th>\n",
       "      <td>1259396</td>\n",
       "      <td>Test your knowledge in Financial Management</td>\n",
       "      <td>https://www.udemy.com/test-your-knowledge-in-f...</td>\n",
       "      <td>True</td>\n",
       "      <td>30</td>\n",
       "      <td>20</td>\n",
       "      <td>0</td>\n",
       "      <td>0</td>\n",
       "      <td>All Levels</td>\n",
       "      <td>82 questions</td>\n",
       "      <td>2017-06-21 05:05:10+00:00</td>\n",
       "      <td>Business Finance</td>\n",
       "      <td>82</td>\n",
       "      <td>questions</td>\n",
       "    </tr>\n",
       "  </tbody>\n",
       "</table>\n",
       "</div>"
      ],
      "text/plain": [
       "     course_id                                       course_title  \\\n",
       "93     1259560        Test your knowledge in Basics of Accounting   \n",
       "95     1270254             Test your Knowledge in Cost Accounting   \n",
       "847    1271684  Test your Knowledge in Banking Credit Analysis...   \n",
       "970    1259396        Test your knowledge in Financial Management   \n",
       "\n",
       "                                                   url  is_paid price  \\\n",
       "93   https://www.udemy.com/test-your-knowledge-in-b...     True    30   \n",
       "95   https://www.udemy.com/test-your-knowledge-in-c...     True    30   \n",
       "847  https://www.udemy.com/banking-credit-analysis-...     True    30   \n",
       "970  https://www.udemy.com/test-your-knowledge-in-f...     True    30   \n",
       "\n",
       "     num_subscribers  num_reviews  num_lectures           level  \\\n",
       "93              1000           11             0  Beginner Level   \n",
       "95               999            3             0      All Levels   \n",
       "847               17            0             0      All Levels   \n",
       "970               20            0             0      All Levels   \n",
       "\n",
       "    content_duration       published_timestamp           subject  \\\n",
       "93     218 questions 2017-06-20 05:56:52+00:00  Business Finance   \n",
       "95      18 questions 2017-06-27 10:43:44+00:00  Business Finance   \n",
       "847     24 questions 2017-06-30 10:45:11+00:00  Business Finance   \n",
       "970     82 questions 2017-06-21 05:05:10+00:00  Business Finance   \n",
       "\n",
       "    content_time_value content_time_unit  \n",
       "93                 218         questions  \n",
       "95                  18         questions  \n",
       "847                 24         questions  \n",
       "970                 82         questions  "
      ]
     },
     "execution_count": 5,
     "metadata": {},
     "output_type": "execute_result"
    }
   ],
   "source": [
    "#To further inspect the data, we can split the content_duration column into unit and value\n",
    "\n",
    "df['content_time_value'] = df['content_duration'].str.split(' ').str[0]\n",
    "df['content_time_unit']  = df['content_duration'].str.split(' ').str[1]\n",
    "\n",
    "# Inspect contentless cases\n",
    "df.query(\"content_time_unit == 'questions'\")"
   ]
  },
  {
   "cell_type": "code",
   "execution_count": 6,
   "id": "512aec0b",
   "metadata": {},
   "outputs": [],
   "source": [
    "# We have some courses that don't have any lectures because they are paid assessments. We'll want to remove them as the duration does not apply to them.\n",
    "\n",
    "# Remove undesired rows\n",
    "df = df.drop([93,95,847,970,2066],axis=0).reset_index(drop=True)\n"
   ]
  },
  {
   "cell_type": "code",
   "execution_count": 7,
   "id": "b1357498",
   "metadata": {},
   "outputs": [],
   "source": [
    "#Change content_duration to break content_time_value in minutes into hours\n",
    "\n",
    "df['content_multiplier'] = np.where(df['content_time_unit'] == 'mins',1/60,1)"
   ]
  },
  {
   "cell_type": "code",
   "execution_count": 8,
   "id": "c0c72203",
   "metadata": {},
   "outputs": [],
   "source": [
    "#Update content_duration to equal content_time_value * content_multiplier which would equate all time in the column into hours\n",
    "df['content_duration']   = df['content_time_value'].astype('float') * df['content_multiplier']\n",
    "\n"
   ]
  },
  {
   "cell_type": "code",
   "execution_count": 9,
   "id": "fe905dd7",
   "metadata": {},
   "outputs": [],
   "source": [
    "#We will apply the function below to the boolean string so that 'TRUE' and 'FALSE' appear as 'True' and 'False'\n",
    "\n",
    "def fix_paid_columns(x):\n",
    "    if x == 'TRUE':\n",
    "        return('True')\n",
    "    elif x == 'FALSE':\n",
    "        return('False')\n",
    "    else:\n",
    "        return(x)"
   ]
  },
  {
   "cell_type": "code",
   "execution_count": 10,
   "id": "74f3a4ca",
   "metadata": {},
   "outputs": [],
   "source": [
    "df['is_paid']    = df['is_paid'].apply(fix_paid_columns) #apply method replaces the string with boolean values\n",
    "df['engagement'] = df['num_reviews'] / df['num_subscribers']"
   ]
  },
  {
   "cell_type": "code",
   "execution_count": 11,
   "id": "25c28d23",
   "metadata": {},
   "outputs": [],
   "source": [
    "#Save the new dataset\n",
    "\n",
    "df.to_csv('data/clean_newdata.csv',index=False)"
   ]
  },
  {
   "cell_type": "code",
   "execution_count": 12,
   "id": "f0d3da76",
   "metadata": {},
   "outputs": [],
   "source": [
    "#Use the new csv file\n",
    "\n",
    "df = pd.read_csv('data/clean_dataset.csv') "
   ]
  },
  {
   "cell_type": "markdown",
   "id": "7eec37bc",
   "metadata": {},
   "source": [
    "### Distribution Analysis"
   ]
  },
  {
   "cell_type": "code",
   "execution_count": 13,
   "id": "aed78bec",
   "metadata": {},
   "outputs": [
    {
     "data": {
      "text/plain": [
       "array([[<AxesSubplot:title={'center':'course_id'}>,\n",
       "        <AxesSubplot:title={'center':'num_subscribers'}>,\n",
       "        <AxesSubplot:title={'center':'num_reviews'}>],\n",
       "       [<AxesSubplot:title={'center':'num_lectures'}>,\n",
       "        <AxesSubplot:title={'center':'content_duration'}>,\n",
       "        <AxesSubplot:title={'center':'content_time_value'}>],\n",
       "       [<AxesSubplot:title={'center':'content_multiplier'}>,\n",
       "        <AxesSubplot:title={'center':'engagement'}>, <AxesSubplot:>]],\n",
       "      dtype=object)"
      ]
     },
     "execution_count": 13,
     "metadata": {},
     "output_type": "execute_result"
    },
    {
     "data": {
      "image/png": "[encoded data removed]",
      "text/plain": [
       "<Figure size 1000x1000 with 9 Axes>"
      ]
     },
     "metadata": {},
     "output_type": "display_data"
    }
   ],
   "source": [
    "#Separate the numerical and categorical data in order to plot bar charts\n",
    "\n",
    "num_cols_df = df.select_dtypes(['int64','float64','datetime64[ns, UTC]']) #select datatypes\n",
    "cat_cols_df = df.select_dtypes(['object']) #selecting the object to populate the charts/chart titles\n",
    "num_cols_df.hist(figsize = (10,10),bins=100)"
   ]
  },
  {
   "cell_type": "markdown",
   "id": "7bae492f",
   "metadata": {},
   "source": [
    "### Combining Features"
   ]
  },
  {
   "cell_type": "markdown",
   "id": "e5fbda28",
   "metadata": {},
   "source": [
    "In order to figure out the average length of lecture in hours we can divide 'content_duration' by 'num_lectures'"
   ]
  },
  {
   "cell_type": "code",
   "execution_count": 14,
   "id": "8b66dfbe",
   "metadata": {},
   "outputs": [],
   "source": [
    "df['content_duration'] = pd.to_numeric(df['content_duration'], errors='coerce') #update Content Duration to float64 datatype\n",
    "df['price'] = pd.to_numeric(df['price'], errors='coerce') #update Price to float64 datatype\n",
    "num_cols_df = df.select_dtypes(include=['int64', 'float64']) #selecting the datatypes\n",
    "num_cols_df[\"average_lecture_length\"] = num_cols_df[\"content_duration\"]/num_cols_df[\"num_lectures\"]\n"
   ]
  },
  {
   "cell_type": "code",
   "execution_count": 15,
   "id": "7b45963c",
   "metadata": {},
   "outputs": [
    {
     "name": "stdout",
     "output_type": "stream",
     "text": [
      "<class 'pandas.core.frame.DataFrame'>\n",
      "RangeIndex: 3677 entries, 0 to 3676\n",
      "Data columns (total 16 columns):\n",
      " #   Column               Non-Null Count  Dtype  \n",
      "---  ------               --------------  -----  \n",
      " 0   course_id            3677 non-null   int64  \n",
      " 1   course_title         3677 non-null   object \n",
      " 2   url                  3677 non-null   object \n",
      " 3   is_paid              3677 non-null   bool   \n",
      " 4   price                3368 non-null   float64\n",
      " 5   num_subscribers      3677 non-null   int64  \n",
      " 6   num_reviews          3677 non-null   int64  \n",
      " 7   num_lectures         3677 non-null   int64  \n",
      " 8   level                3677 non-null   object \n",
      " 9   content_duration     3677 non-null   float64\n",
      " 10  published_timestamp  3677 non-null   object \n",
      " 11  subject              3677 non-null   object \n",
      " 12  content_time_value   3677 non-null   float64\n",
      " 13  content_time_unit    3676 non-null   object \n",
      " 14  content_multiplier   3677 non-null   float64\n",
      " 15  engagement           3607 non-null   float64\n",
      "dtypes: bool(1), float64(5), int64(4), object(6)\n",
      "memory usage: 434.6+ KB\n"
     ]
    }
   ],
   "source": [
    "df.info() #see the updated datatypes"
   ]
  },
  {
   "cell_type": "code",
   "execution_count": 16,
   "id": "023a18e2",
   "metadata": {},
   "outputs": [],
   "source": [
    "num_cols_df[\"revenue\"] = num_cols_df[\"price\"]*num_cols_df[\"num_subscribers\"] #price=float64, subscribers=int64. Multiplying the two results in float64"
   ]
  },
  {
   "cell_type": "markdown",
   "id": "103f0ccb",
   "metadata": {},
   "source": [
    "### Building A Machine Model"
   ]
  },
  {
   "cell_type": "code",
   "execution_count": 17,
   "id": "235faffa",
   "metadata": {},
   "outputs": [],
   "source": [
    "# We want to predict revenue (price*Number of subscribers) as well as number of subscribers\n",
    "\n",
    "# Lets prepare the numerical and categorical columns by replacing any null values\n",
    "\n",
    "\n",
    "fill_mean = lambda col: col.fillna(col.mean())\n",
    "fill_mode = lambda col: col.fillna(col.mode()[0])\n",
    "fill_median = lambda col: col.fillna(col.median())"
   ]
  },
  {
   "cell_type": "code",
   "execution_count": 18,
   "id": "fe7b3007",
   "metadata": {},
   "outputs": [],
   "source": [
    "cat_cols_df = cat_cols_df.iloc[:,2:] #iloc[:2] is selecting all rows and columns from the 3rd column onwards\n",
    "def create_dummy_df(df, cat_cols, dummy_na): #create the new dummy variable\n",
    "    for col in  cat_cols:\n",
    "        try:\n",
    "            # for each cat add dummy var, drop original column\n",
    "            #get_dummies() will add additional columns for data that may not be in the trained model\n",
    "            df = pd.concat([df.drop(col, axis=1), pd.get_dummies(df[col], prefix=col, prefix_sep='_', drop_first=False, dummy_na=dummy_na)], axis=1)\n",
    "        except:\n",
    "            continue\n",
    "    return df #return the dataframe\n",
    "cat_cols_df = create_dummy_df(cat_cols_df, cat_cols_df.columns, dummy_na = False)"
   ]
  },
  {
   "cell_type": "code",
   "execution_count": 19,
   "id": "43d268ee",
   "metadata": {},
   "outputs": [],
   "source": [
    "from sklearn.model_selection import train_test_split #using Scikit-learn train_test_split method\n",
    "X_num_cols_df = num_cols_df[['content_duration','num_lectures','num_reviews','price']] #remove CourseId, Revenue and Number of Subscribers are also removed since that is what we're trying to predict\n",
    "X = pd.concat([X_num_cols_df,cat_cols_df],axis = 1) #axis = 0 refers to horizontal axis or rows and axis = 1 refers to vertical axis or columns\n",
    "y = num_cols_df['revenue'] #revenue = price * number of subscribers\n",
    "#Split into train and test\n",
    "X_train, X_test, y_train, y_test = train_test_split(X, y, test_size = .30, random_state=42)\n",
    "\n",
    "#test_size is given as 0.30 , it means 30% of our data goes into our test size\n",
    "#train_test_split() used to split data into train and test sets\n",
    "#The X_train and X_test sets are used to fit and train our model and the test sets are used for testing and validating\n",
    "#Setting random_state a fixed value (42) will guarantee that same sequence of random numbers are generated each time you run the code"
   ]
  },
  {
   "cell_type": "code",
   "execution_count": 20,
   "id": "47721a4a",
   "metadata": {},
   "outputs": [
    {
     "data": {
      "text/plain": [
       "Pipeline(steps=[('standardscaler', StandardScaler(with_mean=False)),\n",
       "                ('linearregression', LinearRegression())])"
      ]
     },
     "execution_count": 20,
     "metadata": {},
     "output_type": "execute_result"
    }
   ],
   "source": [
    "from sklearn.pipeline import make_pipeline #the pipeline with break into 2 steps (Standard Scaler + Linear Regression)\n",
    "from sklearn.preprocessing import StandardScaler #for preprocessing to prepare the data and make it easier for machine learning model to interpret and work with\n",
    "from sklearn.linear_model import LinearRegression #import a linear regression model\n",
    "from sklearn.model_selection import train_test_split\n",
    "\n",
    "\n",
    "\n",
    "X = X.fillna(X.mean()) #filling any missing X values with the mean\n",
    "y = y.fillna(y.mean()) #filling any missing y values with the mean\n",
    "\n",
    "# Split the data into training and test sets\n",
    "X_train, X_test, y_train, y_test = train_test_split(X, y, test_size=.30, random_state=42)\n",
    "\n",
    "# Create a pipeline with a StandardScaler preprocessing step and a LinearRegression model\n",
    "# The StandardScaler step scales the data to have a mean of 0 and a standard deviation of 1, which helps improve the performance of the LinearRegression model\n",
    "lm_model = make_pipeline(StandardScaler(with_mean=False), LinearRegression())\n",
    "\n",
    "# Fit the pipeline to the training data\n",
    "# The pipeline is then fit to the training data, meaning that the model is trained on the data and is ready to make predictions on new data\n",
    "lm_model.fit(X_train, y_train)\n"
   ]
  },
  {
   "cell_type": "code",
   "execution_count": 21,
   "id": "260f1537",
   "metadata": {},
   "outputs": [
    {
     "name": "stdout",
     "output_type": "stream",
     "text": [
      "The MSE for your model was 446085340727.3906 on 1104 values.\n"
     ]
    }
   ],
   "source": [
    "# Calculate the mean squared error (MSE) for a linear regression model to measure how close the regression line is to the actual data points\n",
    "\n",
    "from sklearn.metrics import mean_squared_error\n",
    "y_test_preds = lm_model.predict(X_test) # calls the 'predict' method of lm_model on 'X_test'\n",
    "mse_score = mean_squared_error(y_test, y_test_preds) #calculate the MSE between predicted 'y_test-preds' and the true 'y_test'\n",
    "length_y_test = len(y_test) \n",
    "print(\"The MSE for your model was {} on {} values.\".format(mse_score, length_y_test)) #prints the length of 'y_test'"
   ]
  },
  {
   "cell_type": "markdown",
   "id": "4a3dc8f4",
   "metadata": {},
   "source": [
    "### Analysis"
   ]
  },
  {
   "cell_type": "markdown",
   "id": "ebee3574",
   "metadata": {},
   "source": [
    "The mean squared error (MSE) for this linear regression model was 446085340727.3906. This indicates that the model is not performing well on the data, and there is a large difference between the predicted values and the actual values.\n",
    "\n",
    "The MSE is a measure of how well the model fits the data, and a lower MSE generally indicates a better fit. The fact that there were 1104 values used in the calculation suggests that this was the result of evaluating the model on a test set of 1104 observations.\n",
    "\n",
    "This model had very poor performance on the test data, suggesting further tuning. One way to do this would be to apply natural language processing (NLP) on the Course Title column to see if there are certain keywords have an effect on the outcome. Another option is to use an exploratory comparison of features by analyzing the relationship between a set of independent variables and a dependent variable through scatter plots, bar charts as well as correlation and regression analysis."
   ]
  }
 ],
 "metadata": {
  "kernelspec": {
   "display_name": "Python 3 (ipykernel)",
   "language": "python",
   "name": "python3"
  },
  "language_info": {
   "codemirror_mode": {
    "name": "ipython",
    "version": 3
   },
   "file_extension": ".py",
   "mimetype": "text/x-python",
   "name": "python",
   "nbconvert_exporter": "python",
   "pygments_lexer": "ipython3",
   "version": "3.9.13"
  }
 },
 "nbformat": 4,
 "nbformat_minor": 5
}
